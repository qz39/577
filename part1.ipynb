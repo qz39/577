{
 "cells": [
  {
   "cell_type": "code",
   "execution_count": 1,
   "id": "d7fb07c7",
   "metadata": {},
   "outputs": [],
   "source": [
    "first_name = \"Taylor\"\n",
    "last_name = 'Swift'"
   ]
  },
  {
   "cell_type": "code",
   "execution_count": 2,
   "id": "d4e3fa9b",
   "metadata": {},
   "outputs": [
    {
     "name": "stdout",
     "output_type": "stream",
     "text": [
      "Taylor\n",
      "Swift\n"
     ]
    }
   ],
   "source": [
    "print(first_name)\n",
    "\n",
    "print(last_name)"
   ]
  },
  {
   "cell_type": "code",
   "execution_count": 3,
   "id": "f51b462b",
   "metadata": {},
   "outputs": [
    {
     "name": "stdout",
     "output_type": "stream",
     "text": [
      "Taylor \n",
      "\n",
      "Swift\n"
     ]
    }
   ],
   "source": [
    "print(first_name, \"\\n\")\n",
    "print(last_name)\n"
   ]
  },
  {
   "cell_type": "code",
   "execution_count": 4,
   "id": "3d8d2a9a",
   "metadata": {},
   "outputs": [
    {
     "data": {
      "text/plain": [
       "'TaylorSwift'"
      ]
     },
     "execution_count": 4,
     "metadata": {},
     "output_type": "execute_result"
    }
   ],
   "source": [
    "first_name + last_name"
   ]
  },
  {
   "cell_type": "code",
   "execution_count": 5,
   "id": "65f6cc15",
   "metadata": {},
   "outputs": [
    {
     "data": {
      "text/plain": [
       "'Taylor Swift'"
      ]
     },
     "execution_count": 5,
     "metadata": {},
     "output_type": "execute_result"
    }
   ],
   "source": [
    "first_name + \" \" + last_name"
   ]
  },
  {
   "cell_type": "code",
   "execution_count": 7,
   "id": "d2b63c98",
   "metadata": {},
   "outputs": [
    {
     "data": {
      "text/plain": [
       "'Taylor Swift is 30 years old'"
      ]
     },
     "execution_count": 7,
     "metadata": {},
     "output_type": "execute_result"
    }
   ],
   "source": [
    "age = 30\n",
    "f\"{first_name} {last_name} is {age} years old\""
   ]
  },
  {
   "cell_type": "code",
   "execution_count": 8,
   "id": "19119964",
   "metadata": {},
   "outputs": [
    {
     "data": {
      "text/plain": [
       "'Hello Rice'"
      ]
     },
     "execution_count": 8,
     "metadata": {},
     "output_type": "execute_result"
    }
   ],
   "source": [
    "test_string = \"hello Rice\"\n",
    "test_string.title()"
   ]
  },
  {
   "cell_type": "code",
   "execution_count": 9,
   "id": "f7710b40",
   "metadata": {},
   "outputs": [
    {
     "name": "stdout",
     "output_type": "stream",
     "text": [
      "hello Rice\n"
     ]
    }
   ],
   "source": [
    "print(test_string)"
   ]
  },
  {
   "cell_type": "code",
   "execution_count": 10,
   "id": "ea52b267",
   "metadata": {},
   "outputs": [
    {
     "ename": "TypeError",
     "evalue": "count() takes at least 1 argument (0 given)",
     "output_type": "error",
     "traceback": [
      "\u001b[1;31m---------------------------------------------------------------------------\u001b[0m",
      "\u001b[1;31mTypeError\u001b[0m                                 Traceback (most recent call last)",
      "\u001b[1;32m~\\AppData\\Local\\Temp/ipykernel_30904/2809124023.py\u001b[0m in \u001b[0;36m<module>\u001b[1;34m\u001b[0m\n\u001b[1;32m----> 1\u001b[1;33m \u001b[0mtest_string\u001b[0m\u001b[1;33m.\u001b[0m\u001b[0mcount\u001b[0m\u001b[1;33m(\u001b[0m\u001b[1;33m)\u001b[0m\u001b[1;33m\u001b[0m\u001b[1;33m\u001b[0m\u001b[0m\n\u001b[0m",
      "\u001b[1;31mTypeError\u001b[0m: count() takes at least 1 argument (0 given)"
     ]
    }
   ],
   "source": [
    "test_string.count()"
   ]
  },
  {
   "cell_type": "code",
   "execution_count": 11,
   "id": "72cabcee",
   "metadata": {},
   "outputs": [
    {
     "name": "stdout",
     "output_type": "stream",
     "text": [
      "Help on built-in function count:\n",
      "\n",
      "count(...) method of builtins.str instance\n",
      "    S.count(sub[, start[, end]]) -> int\n",
      "    \n",
      "    Return the number of non-overlapping occurrences of substring sub in\n",
      "    string S[start:end].  Optional arguments start and end are\n",
      "    interpreted as in slice notation.\n",
      "\n"
     ]
    }
   ],
   "source": [
    "help(test_string.count)"
   ]
  },
  {
   "cell_type": "code",
   "execution_count": 12,
   "id": "ad3a8a01",
   "metadata": {},
   "outputs": [
    {
     "name": "stdout",
     "output_type": "stream",
     "text": [
      "hello Rice \n",
      "\n"
     ]
    },
    {
     "data": {
      "text/plain": [
       "2"
      ]
     },
     "execution_count": 12,
     "metadata": {},
     "output_type": "execute_result"
    }
   ],
   "source": [
    "print(test_string, \"\\n\")\n",
    "test_string.count(\"l\")"
   ]
  },
  {
   "cell_type": "code",
   "execution_count": 13,
   "id": "4f6c31ed",
   "metadata": {},
   "outputs": [
    {
     "name": "stdout",
     "output_type": "stream",
     "text": [
      "I like dogs\n"
     ]
    }
   ],
   "source": [
    "txt = \"I like cats\"\n",
    "x = txt.replace(\"cats\", \"dogs\")\n",
    "print(x)\n"
   ]
  },
  {
   "cell_type": "code",
   "execution_count": 14,
   "id": "2b79995d",
   "metadata": {},
   "outputs": [
    {
     "name": "stdout",
     "output_type": "stream",
     "text": [
      "Taylor Swift contains 12 characters\n"
     ]
    }
   ],
   "source": [
    "full_name = first_name + \" \" + last_name \n",
    "print(f\"{full_name} contains {len(full_name)} characters\")"
   ]
  },
  {
   "cell_type": "code",
   "execution_count": 15,
   "id": "b84eb468",
   "metadata": {},
   "outputs": [
    {
     "name": "stdout",
     "output_type": "stream",
     "text": [
      "The character at the 0 index of abcdefghijklmn is a \n",
      "\n",
      "The character at the 1 index of abcdefghijklmn is b \n",
      "\n",
      "The character at the 2 index of abcdefghijklmn is c \n",
      "\n"
     ]
    }
   ],
   "source": [
    "test_string = \"abcdefghijklmn\"\n",
    "print(f\"The character at the 0 index of {test_string} is {test_string[0]} \\n\")\n",
    "print(f\"The character at the 1 index of {test_string} is {test_string[1]} \\n\")\n",
    "print(f\"The character at the 2 index of {test_string} is {test_string[2]} \\n\")"
   ]
  },
  {
   "cell_type": "code",
   "execution_count": 16,
   "id": "f09ec134",
   "metadata": {},
   "outputs": [
    {
     "name": "stdout",
     "output_type": "stream",
     "text": [
      "The character at the -1 index of abcdefghijklmn is n \n",
      "\n",
      "The character at the -2 index of abcdefghijklmn is m \n",
      "\n",
      "The character at the -3 index of abcdefghijklmn is l \n",
      "\n"
     ]
    }
   ],
   "source": [
    "test_string = \"abcdefghijklmn\"\n",
    "print(f\"The character at the -1 index of {test_string} is {test_string[-1]} \\n\")\n",
    "print(f\"The character at the -2 index of {test_string} is {test_string[-2]} \\n\")\n",
    "print(f\"The character at the -3 index of {test_string} is {test_string[-3]} \\n\")"
   ]
  },
  {
   "cell_type": "code",
   "execution_count": 17,
   "id": "00a78032",
   "metadata": {},
   "outputs": [
    {
     "name": "stdout",
     "output_type": "stream",
     "text": [
      "b\n",
      "c\n",
      "d\n",
      "bcd\n"
     ]
    }
   ],
   "source": [
    "print(test_string[1])\n",
    "print(test_string[2])\n",
    "print(test_string[3])\n",
    "print(test_string[1:4])"
   ]
  },
  {
   "cell_type": "code",
   "execution_count": 18,
   "id": "783482ed",
   "metadata": {},
   "outputs": [
    {
     "name": "stdout",
     "output_type": "stream",
     "text": [
      "[1, 5, 7.9, 4, 20, 4.8]\n",
      "[1, 'one', 4, 'three']\n",
      "[[1, 5, 7.9, 4, 20, 4.8], [1, 'one', 4, 'three']]\n"
     ]
    }
   ],
   "source": [
    "num_list = [1, 5, 7.9, 4, 20, 4.8]\n",
    "print(num_list)\n",
    "num_str_list = [1, \"one\", 4, \"three\"]\n",
    "print(num_str_list)\n",
    "nested_list = [num_list, num_str_list]\n",
    "print(nested_list)"
   ]
  },
  {
   "cell_type": "code",
   "execution_count": 19,
   "id": "3bdf2ec1",
   "metadata": {},
   "outputs": [
    {
     "name": "stdout",
     "output_type": "stream",
     "text": [
      "The number of items in [1, 5, 7.9, 4, 20, 4.8] is 6\n"
     ]
    }
   ],
   "source": [
    "print(f\"The number of items in {num_list} is {len(num_list)}\")"
   ]
  },
  {
   "cell_type": "code",
   "execution_count": 21,
   "id": "4f73c99a",
   "metadata": {},
   "outputs": [
    {
     "name": "stdout",
     "output_type": "stream",
     "text": [
      "['1', '2', '3', '4'] has length 4\n",
      "The 0 index element is: 1\n",
      "The 1 index element is: 2\n",
      "The 2 index element is: 3\n",
      "The 3 index element is: 4\n"
     ]
    }
   ],
   "source": [
    "sample_list = [\"1\", \"2\", \"3\", \"4\"]\n",
    "print(f\"{sample_list} has length {len(sample_list)}\")\n",
    "print(f\"The 0 index element is: {sample_list[0]}\")\n",
    "print(f\"The 1 index element is: {sample_list[1]}\")\n",
    "print(f\"The 2 index element is: {sample_list[2]}\")\n",
    "print(f\"The 3 index element is: {sample_list[3]}\")"
   ]
  },
  {
   "cell_type": "code",
   "execution_count": 22,
   "id": "59ddd7cb",
   "metadata": {},
   "outputs": [
    {
     "name": "stdout",
     "output_type": "stream",
     "text": [
      "['1', '2', '3', '4'] has length 4\n",
      "The -1 index element is: 4\n",
      "The -2 index element is: 3\n",
      "The -3 index element is: 2\n",
      "The -4 index element is: 1\n"
     ]
    }
   ],
   "source": [
    "print(f\"{sample_list} has length {len(sample_list)}\")\n",
    "print(f\"The -1 index element is: {sample_list[-1]}\")\n",
    "print(f\"The -2 index element is: {sample_list[-2]}\")\n",
    "print(f\"The -3 index element is: {sample_list[-3]}\")\n",
    "print(f\"The -4 index element is: {sample_list[-4]}\")"
   ]
  },
  {
   "cell_type": "code",
   "execution_count": 24,
   "id": "970a7fda",
   "metadata": {},
   "outputs": [
    {
     "name": "stdout",
     "output_type": "stream",
     "text": [
      "sample_list = ['1', '2', '3', '4'] \n",
      "\n",
      "sample_list[1:2] = ['2'] \n",
      "\n"
     ]
    }
   ],
   "source": [
    "print(f\"sample_list = {sample_list} \\n\")\n",
    "print(f\"sample_list[1:2] = {sample_list[1:2]} \\n\")"
   ]
  },
  {
   "cell_type": "code",
   "execution_count": 25,
   "id": "bd00ea56",
   "metadata": {},
   "outputs": [
    {
     "name": "stdout",
     "output_type": "stream",
     "text": [
      "sample_list = [1, 12, 8, 6.5, 0.8, 4, 23] \n",
      "\n",
      "------------------------------------------- \n",
      "\n",
      "The sum of numbers in sample_list = 55.3 \n",
      "\n",
      "The maximum of elements in sample_list = 23 \n",
      "\n",
      "The minimum of elements in sample_list  = 0.8 \n",
      "\n",
      "------------------------------------------- \n",
      "\n"
     ]
    }
   ],
   "source": [
    "sample_list = [1, 12, 8, 6.5, .8, 4, 23]\n",
    "\n",
    "title = f\"sample_list = {sample_list} \\n\"\n",
    "\n",
    "print(title)\n",
    "print(\"-\"*len(title), \"\\n\")\n",
    "\n",
    "print(f\"The sum of numbers in sample_list = {sum(sample_list)} \\n\")\n",
    "print(f\"The maximum of elements in sample_list = {max(sample_list)} \\n\")\n",
    "print(f\"The minimum of elements in sample_list  = {min(sample_list)} \\n\")\n",
    "\n",
    "print(\"-\"*len(title), \"\\n\")"
   ]
  },
  {
   "cell_type": "code",
   "execution_count": 26,
   "id": "8e546288",
   "metadata": {},
   "outputs": [
    {
     "name": "stdout",
     "output_type": "stream",
     "text": [
      "The mean of sample_list = 7.8999999999999995\n"
     ]
    }
   ],
   "source": [
    "print(f\"The mean of sample_list = {sum(sample_list)/len(sample_list)}\")"
   ]
  },
  {
   "cell_type": "code",
   "execution_count": 28,
   "id": "dd7a2a79",
   "metadata": {},
   "outputs": [
    {
     "name": "stdout",
     "output_type": "stream",
     "text": [
      "sample_list before applying the append method: [1, 8, 11, 20] \n",
      "\n",
      "sample_list after applying the append method: [1, 8, 11, 20, 'dog'] \n",
      "\n"
     ]
    }
   ],
   "source": [
    "sample_list = [1, 8, 11, 20]\n",
    "print(f\"sample_list before applying the append method: {sample_list} \\n\")\n",
    "sample_list.append(\"dog\")\n",
    "print(f\"sample_list after applying the append method: {sample_list} \\n\")"
   ]
  },
  {
   "cell_type": "code",
   "execution_count": 29,
   "id": "21fe877d",
   "metadata": {},
   "outputs": [
    {
     "name": "stdout",
     "output_type": "stream",
     "text": [
      "x before applying the append method: [1, 8, 11, 20] \n",
      "\n",
      "x after applying the append method: None \n",
      "\n"
     ]
    }
   ],
   "source": [
    "x = [1, 8, 11, 20]\n",
    "print(f\"x before applying the append method: {x} \\n\")\n",
    "x = x.append(\"apple\")\n",
    "print(f\"x after applying the append method: {x} \\n\")"
   ]
  },
  {
   "cell_type": "code",
   "execution_count": 31,
   "id": "06cc2259",
   "metadata": {},
   "outputs": [
    {
     "name": "stdout",
     "output_type": "stream",
     "text": [
      "x before applying the append method: [1, 8, 11, 20] \n",
      "\n",
      "x after applying the append method ON y: [1, 8, 11, 20, 'dog'] \n",
      "\n"
     ]
    }
   ],
   "source": [
    "x = [1, 8, 11, 20]\n",
    "y = x\n",
    "print(f\"x before applying the append method: {x} \\n\")\n",
    "y.append(\"dog\")\n",
    "print(f\"x after applying the append method ON y: {x} \\n\")"
   ]
  },
  {
   "cell_type": "code",
   "execution_count": 33,
   "id": "1be6241d",
   "metadata": {},
   "outputs": [
    {
     "name": "stdout",
     "output_type": "stream",
     "text": [
      "sample_list before applying the sort method: [1, 8, 3, 27] \n",
      "\n",
      "sample_list after applying the sort method: [1, 3, 8, 27] \n",
      "\n"
     ]
    }
   ],
   "source": [
    "sample_list = [1, 8, 3, 27]\n",
    "print(f\"sample_list before applying the sort method: {sample_list} \\n\")\n",
    "sample_list.sort()\n",
    "print(f\"sample_list after applying the sort method: {sample_list} \\n\")"
   ]
  },
  {
   "cell_type": "code",
   "execution_count": 34,
   "id": "62012279",
   "metadata": {},
   "outputs": [
    {
     "name": "stdout",
     "output_type": "stream",
     "text": [
      "Help on built-in function sort:\n",
      "\n",
      "sort(*, key=None, reverse=False) method of builtins.list instance\n",
      "    Sort the list in ascending order and return None.\n",
      "    \n",
      "    The sort is in-place (i.e. the list itself is modified) and stable (i.e. the\n",
      "    order of two equal elements is maintained).\n",
      "    \n",
      "    If a key function is given, apply it once to each list item and sort them,\n",
      "    ascending or descending, according to their function values.\n",
      "    \n",
      "    The reverse flag can be set to sort in descending order.\n",
      "\n"
     ]
    }
   ],
   "source": [
    "sample_list = [10, 3, 15, 2]\n",
    "help(sample_list.sort)\n"
   ]
  },
  {
   "cell_type": "code",
   "execution_count": 35,
   "id": "2b6f8551",
   "metadata": {},
   "outputs": [
    {
     "name": "stdout",
     "output_type": "stream",
     "text": [
      "sample_list before applying the sort method: [10, 3, 15, 2] \n",
      "\n",
      "sample_list after applying the sort method (with reverse = True): [15, 10, 3, 2] \n",
      "\n"
     ]
    }
   ],
   "source": [
    "sample_list = [10, 3, 15, 2]\n",
    "print(f\"sample_list before applying the sort method: {sample_list} \\n\")\n",
    "sample_list.sort(reverse = True)\n",
    "print(f\"sample_list after applying the sort method (with reverse = True): {sample_list} \\n\")"
   ]
  },
  {
   "cell_type": "code",
   "execution_count": 37,
   "id": "79b212d2",
   "metadata": {},
   "outputs": [
    {
     "name": "stdout",
     "output_type": "stream",
     "text": [
      "[2, 4, 6, 8, 10, 'a', 'b', 'c', 'd']\n"
     ]
    }
   ],
   "source": [
    "a = [2, 4,6,8,10]\n",
    "b = [\"a\", \"b\", \"c\", \"d\"]\n",
    "a.extend(b)\n",
    "print(a)"
   ]
  },
  {
   "cell_type": "code",
   "execution_count": 38,
   "id": "065b5b35",
   "metadata": {},
   "outputs": [
    {
     "name": "stdout",
     "output_type": "stream",
     "text": [
      "P(dog) = 0.16666666666666666\n"
     ]
    }
   ],
   "source": [
    "sample_space = [\"dog\", \"cat\", \"rabbit\", \"lion\", \"fish\", \"tiger\"]\n",
    "number_of_apples = sample_space.count(\"dog\")\n",
    "\n",
    "print(f\"P(dog) = {number_of_apples/len(sample_space)}\")"
   ]
  },
  {
   "cell_type": "code",
   "execution_count": 40,
   "id": "72ca19ca",
   "metadata": {},
   "outputs": [
    {
     "name": "stdout",
     "output_type": "stream",
     "text": [
      "a = (1, 2, 3, 4)\n",
      "len(a) = 4\n",
      "sum(a) = 10\n",
      "min(a) = 1\n",
      "max(a) = 4 \n",
      "\n",
      "b = ('a', 'b', 'c', 'd')\n",
      "b[0] = a\n",
      "b[-1] = d\n",
      "b[1:4] = ('b', 'c', 'd')\n"
     ]
    }
   ],
   "source": [
    "a = (1, 2, 3, 4)\n",
    "b = (\"a\", \"b\", \"c\", \"d\")\n",
    "\n",
    "print(f\"a = {a}\")\n",
    "print(f\"len(a) = {len(a)}\")\n",
    "print(f\"sum(a) = {sum(a)}\")\n",
    "print(f\"min(a) = {min(a)}\")\n",
    "print(f\"max(a) = {max(a)} \\n\")\n",
    "\n",
    "print(f\"b = {b}\")\n",
    "print(f\"b[0] = {b[0]}\")\n",
    "print(f\"b[-1] = {b[-1]}\")\n",
    "print(f\"b[1:4] = {b[1:4]}\")"
   ]
  },
  {
   "cell_type": "code",
   "execution_count": 41,
   "id": "6974e0f0",
   "metadata": {},
   "outputs": [
    {
     "name": "stdout",
     "output_type": "stream",
     "text": [
      "set_one = {'d', 'a', 'c'}\n",
      "set_two = {'d', 'c'}\n"
     ]
    }
   ],
   "source": [
    "set_one = {\"a\", \"c\", \"d\"}\n",
    "set_two = set([\"c\", \"d\"])\n",
    "\n",
    "print(f\"set_one = {set_one}\")\n",
    "print(f\"set_two = {set_two}\")"
   ]
  },
  {
   "cell_type": "code",
   "execution_count": 42,
   "id": "035aa7f4",
   "metadata": {},
   "outputs": [
    {
     "name": "stdout",
     "output_type": "stream",
     "text": [
      "x = {'b', 'd', 'a', 'c'}\n"
     ]
    }
   ],
   "source": [
    "x = {\"a\", \"b\", \"c\", \"c\", \"d\"}\n",
    "print(f\"x = {x}\")"
   ]
  },
  {
   "cell_type": "code",
   "execution_count": 43,
   "id": "19ba218c",
   "metadata": {},
   "outputs": [
    {
     "name": "stdout",
     "output_type": "stream",
     "text": [
      "data = [20, 40, 40, 20, 50, 50, 50]\n",
      "unique data entries = [40, 50, 20]\n"
     ]
    }
   ],
   "source": [
    "data = [20,40,40,20,50,50,50]\n",
    "print(f\"data = {data}\")\n",
    "print(f\"unique data entries = {list(set(data))}\")"
   ]
  },
  {
   "cell_type": "code",
   "execution_count": 45,
   "id": "eb9b00a9",
   "metadata": {},
   "outputs": [
    {
     "name": "stdout",
     "output_type": "stream",
     "text": [
      "A = {'e', 'a'}\n",
      "B = {'d', 'e', 'c'} \n",
      "\n",
      "---------------- Set Operators ---------------- \n",
      "\n",
      "Set Union: A or B = {'d', 'e', 'a', 'c'} \n",
      "\n",
      "Set Intersection: A and B = {'e'} \n",
      "\n",
      "Set Difference: A - B = {'a'} \n",
      "\n",
      "Set Symmetric Difference: A (+) B = {'d', 'a', 'c'} \n",
      "\n"
     ]
    }
   ],
   "source": [
    "A = {\"a\", \"e\"}\n",
    "B = {\"c\", \"d\", \"e\"}\n",
    "\n",
    "print(f\"A = {A}\")\n",
    "print(f\"B = {B} \\n\")\n",
    "print(\"---------------- Set Operators ---------------- \\n\")\n",
    "print(f\"Set Union: A or B = {A.union(B)} \\n\")\n",
    "print(f\"Set Intersection: A and B = {A.intersection(B)} \\n\")\n",
    "print(f\"Set Difference: A - B = {A.difference(B)} \\n\")\n",
    "print(f\"Set Symmetric Difference: A (+) B = {A.symmetric_difference(B)} \\n\")"
   ]
  },
  {
   "cell_type": "code",
   "execution_count": 46,
   "id": "a89806d4",
   "metadata": {},
   "outputs": [
    {
     "name": "stdout",
     "output_type": "stream",
     "text": [
      "sample_dictionary = {'first_name': 'Mary', 'last_name': 'Jane', 'age': 20}\n",
      "sample_dictionary key-value pairs = dict_items([('first_name', 'Mary'), ('last_name', 'Jane'), ('age', 20)])\n"
     ]
    }
   ],
   "source": [
    "sample_dictionary = {\"first_name\": \"Mary\", \n",
    "                     \"last_name\": \"Jane\",\n",
    "                     \"age\": 20\n",
    "                    }\n",
    "\n",
    "print(f\"sample_dictionary = {sample_dictionary}\")\n",
    "print(f\"sample_dictionary key-value pairs = {sample_dictionary.items()}\")"
   ]
  },
  {
   "cell_type": "code",
   "execution_count": 47,
   "id": "aae7c310",
   "metadata": {},
   "outputs": [
    {
     "name": "stdout",
     "output_type": "stream",
     "text": [
      "sample_dictionary = {'first_name': 'Mary', 'last_name': 'Jane', 'age': 20} \n",
      "\n",
      "sample_dictionary['first_name'] = Mary \n",
      "\n",
      "sample_dictionary['last_name'] = Jane \n",
      "\n",
      "sample_dictionary['age'] = 20 \n",
      "\n"
     ]
    }
   ],
   "source": [
    "print(f\"sample_dictionary = {sample_dictionary} \\n\")\n",
    "print(f\"sample_dictionary['first_name'] = {sample_dictionary['first_name']} \\n\")\n",
    "print(f\"sample_dictionary['last_name'] = {sample_dictionary['last_name']} \\n\")\n",
    "print(f\"sample_dictionary['age'] = {sample_dictionary['age']} \\n\")"
   ]
  },
  {
   "cell_type": "code",
   "execution_count": 48,
   "id": "81be1b8d",
   "metadata": {},
   "outputs": [
    {
     "name": "stdout",
     "output_type": "stream",
     "text": [
      "sample_dictionary = {'first_name': 'Mary', 'last_name': 'Jane', 'age': 20} \n",
      "\n",
      "sample_dictionary keys = dict_keys(['first_name', 'last_name', 'age']) \n",
      "\n"
     ]
    }
   ],
   "source": [
    "print(f\"sample_dictionary = {sample_dictionary} \\n\")\n",
    "print(f\"sample_dictionary keys = {sample_dictionary.keys()} \\n\")"
   ]
  },
  {
   "cell_type": "code",
   "execution_count": 49,
   "id": "306c51d3",
   "metadata": {},
   "outputs": [
    {
     "name": "stdout",
     "output_type": "stream",
     "text": [
      "sample_dictionary = {'first_name': 'Mary', 'last_name': 'Jane', 'age': 20} \n",
      "\n",
      "sample_dictionary values = dict_values(['Mary', 'Jane', 20]) \n",
      "\n"
     ]
    }
   ],
   "source": [
    "print(f\"sample_dictionary = {sample_dictionary} \\n\")\n",
    "print(f\"sample_dictionary values = {sample_dictionary.values()} \\n\")"
   ]
  },
  {
   "cell_type": "code",
   "execution_count": 51,
   "id": "d0be9ba6",
   "metadata": {},
   "outputs": [
    {
     "name": "stdout",
     "output_type": "stream",
     "text": [
      "new_dictionary before modification:\n",
      "{'first_name': 'Tony', 'last_name': 'Stark', 'age': 34} \n",
      "\n",
      "----------------------------------------------------------------------\n",
      "new_dictionary after modification:\n",
      "{'first_name': 'Anthony', 'last_name': 'Stark', 'age': 34, 'sex': 'male'} \n",
      "\n"
     ]
    }
   ],
   "source": [
    "new_dictionary = {'first_name': 'Tony', 'last_name': 'Stark', 'age': 34}\n",
    "\n",
    "print(\"new_dictionary before modification:\")\n",
    "print(new_dictionary, \"\\n\")\n",
    "\n",
    "print(\"----------------------------------------------------------------------\")\n",
    "\n",
    "new_dictionary[\"first_name\"] = \"Anthony\"\n",
    "new_dictionary[\"sex\"] = \"male\"\n",
    "\n",
    "print(\"new_dictionary after modification:\")\n",
    "print(new_dictionary, \"\\n\")\n"
   ]
  },
  {
   "cell_type": "code",
   "execution_count": 54,
   "id": "d33bf6f1",
   "metadata": {},
   "outputs": [],
   "source": [
    "employees = {\"Peter\": {\"Age\": 20, \"Position\": \"sales\", \"Salary\": 50_000},\n",
    "             \"Amy\" :{\"Age\": 25, \"Position\": \"management\", \"Salary\": 100_000}\n",
    "            }\n",
    "\n",
    "vendors = {\"ATT\" : {\"Product\": \"mobile\", \"Monthly Fee\": 30_000,},\n",
    "           \"Tea\": {\"Product\": \"milktea\", \"Monthly Fee\": 5_000}\n",
    "          }\n",
    "\n",
    "database = {\"employees\": employees, \"vendors\": vendors}\n"
   ]
  },
  {
   "cell_type": "code",
   "execution_count": 55,
   "id": "bcd1e938",
   "metadata": {},
   "outputs": [
    {
     "name": "stdout",
     "output_type": "stream",
     "text": [
      "{'Peter': {'Age': 20, 'Position': 'sales', 'Salary': 50000}, 'Amy': {'Age': 25, 'Position': 'management', 'Salary': 100000}}\n",
      "{'Age': 25, 'Position': 'management', 'Salary': 100000}\n"
     ]
    }
   ],
   "source": [
    "print(database[\"employees\"])\n",
    "print(database[\"employees\"][\"Amy\"])"
   ]
  },
  {
   "cell_type": "code",
   "execution_count": 56,
   "id": "125c33af",
   "metadata": {},
   "outputs": [
    {
     "name": "stdout",
     "output_type": "stream",
     "text": [
      "Employees:\n",
      "----------\n",
      "           Peter:\n",
      "           ----------------\n",
      "           Age: 20\n",
      "           Position: sales\n",
      "           Salary: 50000\n",
      "\n",
      "           Amy:\n",
      "           ----------------\n",
      "           Age: 25\n",
      "           Position: management\n",
      "           Salary: 100000\n",
      "\n",
      "\n",
      "Vendors:\n",
      "----------\n",
      "           Att:\n",
      "           ----------------\n",
      "           Product: mobile\n",
      "           Monthly Fee: 30000\n",
      "\n",
      "           Tea:\n",
      "           ----------------\n",
      "           Product: milktea\n",
      "           Monthly Fee: 5000\n",
      "\n",
      "\n"
     ]
    }
   ],
   "source": [
    "for field in database:\n",
    "    print(f\"{field.capitalize()}:\")\n",
    "    print(\"----------\")\n",
    "    for field_two in database[field]:\n",
    "        print(f\"           {field_two.capitalize()}:\")\n",
    "        print(\"           ----------------\")\n",
    "        for prop in database[field][field_two]:\n",
    "            print(f\"           {prop}: {database[field][field_two][prop]}\")\n",
    "        print()\n",
    "    print()"
   ]
  },
  {
   "cell_type": "code",
   "execution_count": 57,
   "id": "e23f6ede",
   "metadata": {},
   "outputs": [
    {
     "name": "stdout",
     "output_type": "stream",
     "text": [
      "x = 5\n",
      "y = 20\n",
      "x is less than y\n"
     ]
    }
   ],
   "source": [
    "x = 5\n",
    "y = 20\n",
    "print(f\"x = {x}\")\n",
    "print(f\"y = {y}\")\n",
    "\n",
    "if x > y:\n",
    "    print(\"x is greater than y\")\n",
    "else:\n",
    "    print(\"x is less than y\")"
   ]
  },
  {
   "cell_type": "code",
   "execution_count": 58,
   "id": "1719414e",
   "metadata": {},
   "outputs": [
    {
     "name": "stdout",
     "output_type": "stream",
     "text": [
      "x = 1\n",
      "y = 50\n",
      "x is less than y\n"
     ]
    }
   ],
   "source": [
    "x = 1\n",
    "y = 50\n",
    "print(f\"{x = }\") # Only works on Python 3.8 and higher\n",
    "print(f\"y = {y}\")\n",
    "\n",
    "if x > y:\n",
    "    print(\"x is greater than y\")\n",
    "else:\n",
    "    print(\"x is less than y\")"
   ]
  },
  {
   "cell_type": "code",
   "execution_count": 59,
   "id": "5a8c5e23",
   "metadata": {},
   "outputs": [
    {
     "name": "stdout",
     "output_type": "stream",
     "text": [
      "x = 1\n",
      "y = 1\n",
      "x is equal to y\n"
     ]
    }
   ],
   "source": [
    "x = 1\n",
    "y = 1\n",
    "print(f\"{x = }\")\n",
    "print(f\"y = {y}\")\n",
    "\n",
    "if x > y:\n",
    "    print(\"x is greater than y\")\n",
    "elif x == y:\n",
    "    print(\"x is equal to y\")\n",
    "else:\n",
    "    print(\"x is less than y\")"
   ]
  },
  {
   "cell_type": "code",
   "execution_count": 60,
   "id": "602fb89e",
   "metadata": {},
   "outputs": [
    {
     "name": "stdout",
     "output_type": "stream",
     "text": [
      "i = 1\n",
      "i = 2\n",
      "i = 3\n",
      "i = 4\n",
      "i = 5\n",
      "i = 6\n",
      "i = 7\n",
      "i = 8\n",
      "i = 9\n",
      "i = 10\n",
      "i = 11\n",
      "i = 12\n",
      "i = 13\n",
      "i = 14\n",
      "i = 15\n",
      "i = 16\n",
      "i = 17\n",
      "i = 18\n",
      "i = 19\n"
     ]
    }
   ],
   "source": [
    "i = 1\n",
    "max_iterations = 20\n",
    "while i < max_iterations:\n",
    "    print(f\"i = {i}\")\n",
    "    i += 1 "
   ]
  },
  {
   "cell_type": "code",
   "execution_count": 61,
   "id": "21493fc8",
   "metadata": {},
   "outputs": [
    {
     "name": "stdout",
     "output_type": "stream",
     "text": [
      "dog\n",
      "cat\n",
      "rabbit\n",
      "pig\n",
      "sheep\n"
     ]
    }
   ],
   "source": [
    "animals = [\"dog\", \"cat\", \"rabbit\", \"pig\", \"sheep\"]\n",
    "\n",
    "for animal in animals:\n",
    "    print(animal)"
   ]
  },
  {
   "cell_type": "code",
   "execution_count": 63,
   "id": "8fef0d80",
   "metadata": {},
   "outputs": [
    {
     "name": "stdout",
     "output_type": "stream",
     "text": [
      "index: 0, animal: dog\n",
      "index: 1, animal: cat\n",
      "index: 2, animal: rabbit\n",
      "index: 3, animal: pig\n",
      "index: 4, animal: sheep\n"
     ]
    }
   ],
   "source": [
    "animals = [\"dog\", \"cat\", \"rabbit\", \"pig\", \"sheep\"]\n",
    "for i, animal in enumerate(animals):\n",
    "    print(f\"index: {i}, animal: {animal}\")"
   ]
  },
  {
   "cell_type": "code",
   "execution_count": 64,
   "id": "4d742297",
   "metadata": {},
   "outputs": [
    {
     "name": "stdout",
     "output_type": "stream",
     "text": [
      "Name: dog, Age: 4\n",
      "Name: cat, Age: 5\n",
      "Name: rabbit, Age: 3\n",
      "Name: pig, Age: 10\n",
      "Name: sheep, Age: 20\n"
     ]
    }
   ],
   "source": [
    "animals = [\"dog\", \"cat\", \"rabbit\", \"pig\", \"sheep\"]\n",
    "numbers = [4, 5, 3, 10, 20]\n",
    "for animal, number in zip(animals, numbers):\n",
    "    print(f\"Name: {animal}, Age: {number}\")\n"
   ]
  },
  {
   "cell_type": "code",
   "execution_count": 65,
   "id": "de14a5a4",
   "metadata": {},
   "outputs": [
    {
     "name": "stdout",
     "output_type": "stream",
     "text": [
      "normal_list = [1, 2, 3, 4, 5, 6] \n",
      "\n",
      "even_list = [2, 4, 6] \n",
      "\n",
      "odd_list = [1, 3, 5] \n",
      "\n",
      "even_or_odd = {1: 'odd', 2: 'even', 3: 'odd', 4: 'even', 5: 'odd', 6: 'even'} \n",
      "\n"
     ]
    }
   ],
   "source": [
    "normal_list = [1, 2, 3, 4, 5, 6]\n",
    "print(f\"normal_list = {normal_list} \\n\")\n",
    "even_list = [x for x in normal_list if x % 2 == 0]\n",
    "print(f\"even_list = {even_list} \\n\")\n",
    "odd_list = [x for x in normal_list if x % 2 != 0]\n",
    "print(f\"odd_list = {odd_list} \\n\")\n",
    "even_or_odd = {x : \"even\" if x % 2 == 0 else \"odd\" for x in normal_list}\n",
    "print(f\"even_or_odd = {even_or_odd} \\n\")"
   ]
  },
  {
   "cell_type": "code",
   "execution_count": 66,
   "id": "a7d033b0",
   "metadata": {},
   "outputs": [
    {
     "name": "stdout",
     "output_type": "stream",
     "text": [
      "dog\n",
      "cat\n",
      "rabbit\n",
      "pig\n",
      "sheep\n"
     ]
    }
   ],
   "source": [
    "animals = [\"dog\", \"cat\", \"rabbit\", \"pig\", \"sheep\"]\n",
    "for animal in animals:\n",
    "    print(animal)"
   ]
  },
  {
   "cell_type": "code",
   "execution_count": 67,
   "id": "b92eac81",
   "metadata": {},
   "outputs": [
    {
     "name": "stdout",
     "output_type": "stream",
     "text": [
      "first_list:\n",
      "------------------------\n",
      "dog\n",
      "cat\n",
      "rabbit\n",
      "pig\n",
      "sheep\n",
      "\n",
      "\n",
      "second_list\n",
      "------------------------\n",
      "US\n",
      "Canada\n",
      "UK\n",
      "Japan\n",
      "German\n",
      "\n",
      "\n"
     ]
    }
   ],
   "source": [
    "first_list = [\"dog\", \"cat\", \"rabbit\", \"pig\", \"sheep\"]\n",
    "second_list = [\"US\", \n",
    "               \"Canada\", \n",
    "               \"UK\", \n",
    "               \"Japan\",\n",
    "               \"German\"]\n",
    "def print_items(items):\n",
    "    for item in items:\n",
    "        print(item)\n",
    "    print(\"\\n\")\n",
    "\n",
    "print(\"first_list:\")\n",
    "print(\"------------------------\")\n",
    "print_items(first_list)\n",
    "\n",
    "\n",
    "print(\"second_list\")\n",
    "print(\"------------------------\")\n",
    "print_items(second_list)"
   ]
  },
  {
   "cell_type": "code",
   "execution_count": 68,
   "id": "44ea88bf",
   "metadata": {},
   "outputs": [
    {
     "name": "stdout",
     "output_type": "stream",
     "text": [
      "----- My First List -----\n",
      "-------------------------\n",
      "dog\n",
      "cat\n",
      "rabbit\n",
      "pig\n",
      "sheep\n",
      "\n",
      "\n",
      "----- Texas Universities -----\n",
      "------------------------------\n",
      "1. US\n",
      "2. Canada\n",
      "3. UK\n",
      "4. Japan\n",
      "5. German\n",
      "\n",
      "\n"
     ]
    }
   ],
   "source": [
    "def print_items(items, my_title = \"My List\", show_numbers = False):\n",
    "\n",
    "    title = f\"----- {my_title.title()} -----\" # using the string method title()\n",
    "    line = \"-\"*len(title) # nice seperating line\n",
    "\n",
    "    print(title)\n",
    "    print(line)\n",
    "\n",
    "    if show_numbers:\n",
    "        # If show_numbers == True use the enumerate function to number the items\n",
    "        for i, item in enumerate(items):\n",
    "            print(f\"{i+1}. {item}\")\n",
    "    else:\n",
    "        # If show_numbers == False simply print the items \n",
    "        for item in items:\n",
    "            print(item)\n",
    "    print(\"\\n\")\n",
    "\n",
    "\n",
    "print_items(first_list, my_title = \"my first list\")\n",
    "print_items(second_list, my_title = \"texas universities\", show_numbers = True)"
   ]
  },
  {
   "cell_type": "code",
   "execution_count": 69,
   "id": "f9400e66",
   "metadata": {},
   "outputs": [
    {
     "ename": "TypeError",
     "evalue": "items argument must be of type 'list'",
     "output_type": "error",
     "traceback": [
      "\u001b[1;31m---------------------------------------------------------------------------\u001b[0m",
      "\u001b[1;31mTypeError\u001b[0m                                 Traceback (most recent call last)",
      "\u001b[1;32m~\\AppData\\Local\\Temp/ipykernel_30904/3073634495.py\u001b[0m in \u001b[0;36m<module>\u001b[1;34m\u001b[0m\n\u001b[0;32m     21\u001b[0m \u001b[1;33m\u001b[0m\u001b[0m\n\u001b[0;32m     22\u001b[0m \u001b[1;33m\u001b[0m\u001b[0m\n\u001b[1;32m---> 23\u001b[1;33m \u001b[0mprint_items\u001b[0m\u001b[1;33m(\u001b[0m\u001b[1;34m\"hello\"\u001b[0m\u001b[1;33m)\u001b[0m\u001b[1;33m\u001b[0m\u001b[1;33m\u001b[0m\u001b[0m\n\u001b[0m",
      "\u001b[1;32m~\\AppData\\Local\\Temp/ipykernel_30904/3073634495.py\u001b[0m in \u001b[0;36mprint_items\u001b[1;34m(items, my_title, show_numbers)\u001b[0m\n\u001b[0;32m      2\u001b[0m \u001b[1;33m\u001b[0m\u001b[0m\n\u001b[0;32m      3\u001b[0m     \u001b[1;32mif\u001b[0m \u001b[1;32mnot\u001b[0m \u001b[0mtype\u001b[0m\u001b[1;33m(\u001b[0m\u001b[0mitems\u001b[0m\u001b[1;33m)\u001b[0m \u001b[1;32mis\u001b[0m \u001b[0mlist\u001b[0m\u001b[1;33m:\u001b[0m\u001b[1;33m\u001b[0m\u001b[1;33m\u001b[0m\u001b[0m\n\u001b[1;32m----> 4\u001b[1;33m           \u001b[1;32mraise\u001b[0m \u001b[0mTypeError\u001b[0m\u001b[1;33m(\u001b[0m\u001b[1;34m\"items argument must be of type 'list'\"\u001b[0m\u001b[1;33m)\u001b[0m\u001b[1;33m\u001b[0m\u001b[1;33m\u001b[0m\u001b[0m\n\u001b[0m\u001b[0;32m      5\u001b[0m \u001b[1;33m\u001b[0m\u001b[0m\n\u001b[0;32m      6\u001b[0m     \u001b[1;32mif\u001b[0m \u001b[1;32mnot\u001b[0m \u001b[0mtype\u001b[0m\u001b[1;33m(\u001b[0m\u001b[0mmy_title\u001b[0m\u001b[1;33m)\u001b[0m \u001b[1;32mis\u001b[0m \u001b[0mstr\u001b[0m\u001b[1;33m:\u001b[0m\u001b[1;33m\u001b[0m\u001b[1;33m\u001b[0m\u001b[0m\n",
      "\u001b[1;31mTypeError\u001b[0m: items argument must be of type 'list'"
     ]
    }
   ],
   "source": [
    "def print_items(items, my_title = \"My List\", show_numbers = False):\n",
    "\n",
    "    if not type(items) is list:\n",
    "          raise TypeError(\"items argument must be of type 'list'\")\n",
    "\n",
    "    if not type(my_title) is str:\n",
    "          raise TypeError(\"my_title argument must be of type 'str'\")\n",
    "\n",
    "    if not type(show_number) is bool:\n",
    "          raise TypeError(\"show_numbers argument must be of type 'bool'\")\n",
    "\n",
    "    print(f\"{my_title.title()}\")\n",
    "    print(\"------------------------\")\n",
    "    if show_numbers:\n",
    "        for i, item in enumerate(items):\n",
    "            print(f\"{i+1}. {item}\")\n",
    "    else:\n",
    "        for item in items:\n",
    "            print(item)\n",
    "    print(\"\\n\")\n",
    "\n",
    "\n",
    "print_items(\"hello\")\n"
   ]
  },
  {
   "cell_type": "code",
   "execution_count": 70,
   "id": "853f09ca",
   "metadata": {},
   "outputs": [],
   "source": [
    "def print_items(items, my_title = \"My List\", show_numbers = False):\n",
    "    \"\"\"Prints the elements in items to the user.\n",
    "\n",
    "        Parameters\n",
    "        ----------\n",
    "        items: list\n",
    "            The list of elements to be printed to the user\n",
    "\n",
    "        my_title : str, optional\n",
    "            The title to appear above the elements in items (default is 'My List')\n",
    "\n",
    "        show_numbers : bool, optional\n",
    "            If true the elements in items will be printed next to\n",
    "            their corresponding index (default is False)\n",
    "\n",
    "        Raises\n",
    "        ------\n",
    "        TypeError\n",
    "            If items is not a Python list type.\n",
    "            If my_title is not a Python str type.\n",
    "            If show_numbers is not a Python bool type.\n",
    "\n",
    "        Returns\n",
    "        ------\n",
    "        None\n",
    "\n",
    "    \"\"\"\n",
    "\n",
    "    if not type(items) is list:\n",
    "          raise TypeError(\"items argument must be of type 'list'\")\n",
    "\n",
    "    if not type(my_title) is str:\n",
    "          raise TypeError(\"my_title argument must be of type 'str'\")\n",
    "\n",
    "    if not type(show_number) is bool:\n",
    "          raise TypeError(\"show_numbers argument must be of type 'bool'\")\n",
    "\n",
    "    print(f\"{my_title.title()}\")\n",
    "    print(\"------------------------\")\n",
    "    if show_numbers:\n",
    "        for i, item in enumerate(items):\n",
    "            print(f\"{i+1}. {item}\")\n",
    "    else:\n",
    "        for item in items:\n",
    "            print(item)\n",
    "    print(\"\\n\")\n"
   ]
  },
  {
   "cell_type": "code",
   "execution_count": 71,
   "id": "8585f3c6",
   "metadata": {},
   "outputs": [
    {
     "name": "stdout",
     "output_type": "stream",
     "text": [
      "sign(5) = 1\n",
      "sign(-15.9) = -1\n"
     ]
    }
   ],
   "source": [
    "def sign(x):\n",
    "    \"\"\"The sign activation function returns positive one if the \n",
    "       argument x is positive and negative one otherwise.\n",
    "\n",
    "        Parameters\n",
    "        ----------\n",
    "        x: int or float\n",
    "         numerical value\n",
    "\n",
    "        Raises\n",
    "        ------\n",
    "        TypeError\n",
    "            If x is neither int type or float type\n",
    "\n",
    "        Returns\n",
    "        ------\n",
    "        positive one if x is positive\n",
    "        negative one if x is negative\n",
    "\n",
    "    \"\"\"\n",
    "\n",
    "    if type(x) not in [float, int]:\n",
    "          raise TypeError(\"x argument must be of type 'int' or 'float'\")\n",
    "\n",
    "    if x >= 0:\n",
    "        return 1\n",
    "    else:\n",
    "        return -1\n",
    "\n",
    "x = sign(5)\n",
    "y = sign(-15.9)\n",
    "print(f\"sign(5) = {x}\")\n",
    "print(f\"sign(-15.9) = {y}\")"
   ]
  },
  {
   "cell_type": "code",
   "execution_count": 72,
   "id": "f49300e0",
   "metadata": {},
   "outputs": [],
   "source": [
    "def double_list(x):\n",
    "    i = 0\n",
    "    while i < len(x):\n",
    "        x[i] *= 2\n",
    "        i += 1"
   ]
  },
  {
   "cell_type": "code",
   "execution_count": null,
   "id": "d0234466",
   "metadata": {},
   "outputs": [],
   "source": []
  }
 ],
 "metadata": {
  "kernelspec": {
   "display_name": "Python 3 (ipykernel)",
   "language": "python",
   "name": "python3"
  },
  "language_info": {
   "codemirror_mode": {
    "name": "ipython",
    "version": 3
   },
   "file_extension": ".py",
   "mimetype": "text/x-python",
   "name": "python",
   "nbconvert_exporter": "python",
   "pygments_lexer": "ipython3",
   "version": "3.9.7"
  }
 },
 "nbformat": 4,
 "nbformat_minor": 5
}
